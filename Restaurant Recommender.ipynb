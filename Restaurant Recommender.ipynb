{
 "cells": [
  {
   "cell_type": "code",
   "id": "47bb8247-2bde-4abe-a459-be6c74b0b54e",
   "metadata": {
    "ExecuteTime": {
     "end_time": "2024-11-12T19:50:05.945577Z",
     "start_time": "2024-11-12T19:50:05.665508Z"
    }
   },
   "source": [
    "import pandas as pd\n",
    "import numpy as np\n",
    "from sklearn.model_selection import train_test_split\n",
    "from sklearn.preprocessing import MultiLabelBinarizer\n",
    "from tensorflow.keras.models import Sequential\n",
    "from tensorflow.keras.layers import Dense\n",
    "from tensorflow.keras.optimizers import Adam\n",
    "\n",
    "# Load data\n",
    "file_path = \"/Users/Patron/Documents/Machine Learning /Module 10/restaurant_preferences.xlsx\"\n",
    "data = pd.read_excel(file_path)\n",
    "\n",
    "# Extract usernames and preferences\n",
    "usernames = data.iloc[:, 0]  # First column is username\n",
    "restaurants = data.iloc[:, 1:]  # Remaining columns are restaurant preferences\n",
    "\n",
    "# Handle missing values by replacing with an empty string\n",
    "restaurants = restaurants.fillna(\"\")\n",
    "\n",
    "# Convert rows of restaurant preferences to a list of unique values per user\n",
    "restaurant_lists = restaurants.apply(lambda x: [r for r in x if r != \"\"], axis=1)\n",
    "\n",
    "# One-hot encode the restaurant preferences\n",
    "mlb = MultiLabelBinarizer()\n",
    "one_hot_restaurants = mlb.fit_transform(restaurant_lists)\n",
    "\n",
    "# Convert to a DataFrame for easier manipulation\n",
    "restaurant_df = pd.DataFrame(one_hot_restaurants, columns=mlb.classes_)\n",
    "\n",
    "# Create training data using leave-one-out for each user\n",
    "X, y = [], []\n",
    "for row in restaurant_df.itertuples(index=False):\n",
    "    liked_restaurants = np.where(row)[0]  # Get indices of liked restaurants\n",
    "    if len(liked_restaurants) < 2:\n",
    "        # Skip users with fewer than 2 preferences, as we need at least one for training\n",
    "        continue\n",
    "    \n",
    "    # Leave-one-out: for each restaurant in the liked list, create a separate training instance\n",
    "    for left_out_idx in liked_restaurants:\n",
    "        # Input features: All but the left-out restaurant\n",
    "        input_features = np.array(row, dtype=int)\n",
    "        input_features[left_out_idx] = 0  # \"Leave out\" one restaurant\n",
    "        \n",
    "        X.append(input_features)\n",
    "        y.append(left_out_idx)  # Target: the index of the left-out restaurant\n",
    "\n",
    "X, y = np.array(X), np.array(y)\n",
    "\n",
    "# Define the neural network model\n",
    "model = Sequential([\n",
    "    Dense(16, activation='relu', input_shape=(X.shape[1],)),\n",
    "    Dense(8, activation='relu'),\n",
    "    Dense(X.shape[1], activation='softmax')  # Output layer with softmax for probabilities\n",
    "])\n",
    "\n",
    "model.compile(optimizer=Adam(learning_rate=0.001), loss='sparse_categorical_crossentropy', metrics=['accuracy'])\n",
    "\n",
    "# Train the model\n",
    "model.fit(X, y, epochs=10, batch_size=32, validation_split=0.2)\n",
    "\n",
    "# Function for predicting a left-out restaurant for a new user\n",
    "def recommend_restaurant(selected_restaurants):\n",
    "    # Convert selected restaurants to one-hot encoding\n",
    "    input_vector = np.zeros(X.shape[1])\n",
    "    for restaurant in selected_restaurants:\n",
    "        if restaurant in mlb.classes_:\n",
    "            input_vector[mlb.classes_.tolist().index(restaurant)] = 1\n",
    "    \n",
    "    # Predict the probabilities for each restaurant\n",
    "    prediction = model.predict(input_vector.reshape(1, -1))\n",
    "    recommended_index = np.argmax(prediction)\n",
    "    return mlb.classes_[recommended_index]"
   ],
   "outputs": [
    {
     "name": "stdout",
     "output_type": "stream",
     "text": [
      "zsh:1: command not found: pip\r\n",
      "zsh:1: command not found: pip\r\n"
     ]
    },
    {
     "ename": "ModuleNotFoundError",
     "evalue": "No module named 'tensorflow'",
     "output_type": "error",
     "traceback": [
      "\u001B[0;31m---------------------------------------------------------------------------\u001B[0m",
      "\u001B[0;31mModuleNotFoundError\u001B[0m                       Traceback (most recent call last)",
      "Cell \u001B[0;32mIn[3], line 8\u001B[0m\n\u001B[1;32m      6\u001B[0m \u001B[38;5;28;01mfrom\u001B[39;00m \u001B[38;5;21;01msklearn\u001B[39;00m\u001B[38;5;21;01m.\u001B[39;00m\u001B[38;5;21;01mmodel_selection\u001B[39;00m \u001B[38;5;28;01mimport\u001B[39;00m train_test_split\n\u001B[1;32m      7\u001B[0m \u001B[38;5;28;01mfrom\u001B[39;00m \u001B[38;5;21;01msklearn\u001B[39;00m\u001B[38;5;21;01m.\u001B[39;00m\u001B[38;5;21;01mpreprocessing\u001B[39;00m \u001B[38;5;28;01mimport\u001B[39;00m MultiLabelBinarizer\n\u001B[0;32m----> 8\u001B[0m \u001B[38;5;28;01mfrom\u001B[39;00m \u001B[38;5;21;01mtensorflow\u001B[39;00m\u001B[38;5;21;01m.\u001B[39;00m\u001B[38;5;21;01mkeras\u001B[39;00m\u001B[38;5;21;01m.\u001B[39;00m\u001B[38;5;21;01mmodels\u001B[39;00m \u001B[38;5;28;01mimport\u001B[39;00m Sequential\n\u001B[1;32m      9\u001B[0m \u001B[38;5;28;01mfrom\u001B[39;00m \u001B[38;5;21;01mtensorflow\u001B[39;00m\u001B[38;5;21;01m.\u001B[39;00m\u001B[38;5;21;01mkeras\u001B[39;00m\u001B[38;5;21;01m.\u001B[39;00m\u001B[38;5;21;01mlayers\u001B[39;00m \u001B[38;5;28;01mimport\u001B[39;00m Dense\n\u001B[1;32m     10\u001B[0m \u001B[38;5;28;01mfrom\u001B[39;00m \u001B[38;5;21;01mtensorflow\u001B[39;00m\u001B[38;5;21;01m.\u001B[39;00m\u001B[38;5;21;01mkeras\u001B[39;00m\u001B[38;5;21;01m.\u001B[39;00m\u001B[38;5;21;01moptimizers\u001B[39;00m \u001B[38;5;28;01mimport\u001B[39;00m Adam\n",
      "\u001B[0;31mModuleNotFoundError\u001B[0m: No module named 'tensorflow'"
     ]
    }
   ],
   "execution_count": 3
  },
  {
   "metadata": {
    "ExecuteTime": {
     "end_time": "2024-11-12T19:53:29.577117Z",
     "start_time": "2024-11-12T19:53:29.428815Z"
    }
   },
   "cell_type": "code",
   "source": "!pip install tensorflow",
   "id": "35eb364c00175c7e",
   "outputs": [
    {
     "name": "stdout",
     "output_type": "stream",
     "text": [
      "zsh:1: command not found: pip\r\n"
     ]
    }
   ],
   "execution_count": 4
  },
  {
   "cell_type": "code",
   "execution_count": 7,
   "id": "9cdea2aa-9892-4dc9-b1b7-bf97e447d5b4",
   "metadata": {},
   "outputs": [
    {
     "name": "stdout",
     "output_type": "stream",
     "text": [
      "\u001B[1m1/1\u001B[0m \u001B[32m━━━━━━━━━━━━━━━━━━━━\u001B[0m\u001B[37m\u001B[0m \u001B[1m0s\u001B[0m 47ms/step\n",
      "\u001B[1m1/1\u001B[0m \u001B[32m━━━━━━━━━━━━━━━━━━━━\u001B[0m\u001B[37m\u001B[0m \u001B[1m0s\u001B[0m 19ms/step\n"
     ]
    }
   ],
   "source": [
    "import tkinter as tk\n",
    "from tkinter import messagebox\n",
    "from tensorflow.keras.models import load_model  # If you saved your model, you can load it\n",
    "\n",
    "# Initialize main GUI window\n",
    "root = tk.Tk()\n",
    "root.title(\"Restaurant Recommender System\")\n",
    "root.geometry(\"400x300\")\n",
    "\n",
    "# Load the unique restaurant list for dropdown options\n",
    "restaurant_list = mlb.classes_.tolist()\n",
    "\n",
    "# Variables to store selected restaurants\n",
    "selected_restaurants = [tk.StringVar() for _ in range(4)]\n",
    "\n",
    "# Create dropdowns for restaurant selection\n",
    "dropdown_labels = [\"Restaurant 1\", \"Restaurant 2\", \"Restaurant 3\", \"Restaurant 4\"]\n",
    "for i in range(4):\n",
    "    tk.Label(root, text=dropdown_labels[i]).pack()\n",
    "    tk.OptionMenu(root, selected_restaurants[i], *restaurant_list).pack()\n",
    "\n",
    "# Function to get recommendations based on selected restaurants\n",
    "def get_recommendation():\n",
    "    # Gather selected restaurant choices\n",
    "    selected = [var.get() for var in selected_restaurants]\n",
    "    \n",
    "    # Check if all dropdowns have a valid selection\n",
    "    if \"\" in selected:\n",
    "        messagebox.showwarning(\"Incomplete Selection\", \"Please select four restaurants.\")\n",
    "        return\n",
    "    \n",
    "    # Use the model to predict the recommended restaurant\n",
    "    recommended_restaurant = recommend_restaurant(selected)\n",
    "    messagebox.showinfo(\"Recommendation\", f\"We recommend you try: {recommended_restaurant}\")\n",
    "\n",
    "# Button to get recommendations\n",
    "tk.Button(root, text=\"Get Recommendation\", command=get_recommendation).pack()\n",
    "\n",
    "# Run the GUI application\n",
    "root.mainloop()"
   ]
  },
  {
   "cell_type": "code",
   "execution_count": null,
   "id": "647fbe43-bb80-4afc-9f92-7219deb7068c",
   "metadata": {},
   "outputs": [],
   "source": []
  }
 ],
 "metadata": {
  "kernelspec": {
   "display_name": "Python 3 (ipykernel)",
   "language": "python",
   "name": "python3"
  },
  "language_info": {
   "codemirror_mode": {
    "name": "ipython",
    "version": 3
   },
   "file_extension": ".py",
   "mimetype": "text/x-python",
   "name": "python",
   "nbconvert_exporter": "python",
   "pygments_lexer": "ipython3",
   "version": "3.12.2"
  }
 },
 "nbformat": 4,
 "nbformat_minor": 5
}
